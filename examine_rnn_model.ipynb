{
 "cells": [
  {
   "cell_type": "markdown",
   "metadata": {},
   "source": [
    "# Examine Trained RNN Model"
   ]
  },
  {
   "cell_type": "code",
   "execution_count": 1,
   "metadata": {},
   "outputs": [],
   "source": [
    "import numpy as np\n",
    "import matplotlib.pyplot as plt\n",
    "import torch\n",
    "import motion, path_rnn"
   ]
  },
  {
   "cell_type": "code",
   "execution_count": 2,
   "metadata": {},
   "outputs": [],
   "source": [
    "# Directory where test data is loaded from\n",
    "TEST_DATA_DIR = 'data/sim_2022_04_12'\n",
    "\n",
    "# Path where model is saved\n",
    "MODEL_FPATH = 'models/test_2022_04_19_02.pt'\n",
    "\n",
    "# Number of units in RNN\n",
    "NUM_UNITS = 100"
   ]
  },
  {
   "cell_type": "markdown",
   "metadata": {},
   "source": [
    "## Load test data"
   ]
  },
  {
   "cell_type": "code",
   "execution_count": 3,
   "metadata": {},
   "outputs": [],
   "source": [
    "sim_params, vel, pos = motion.load_simulation_results(TEST_DATA_DIR)"
   ]
  },
  {
   "cell_type": "markdown",
   "metadata": {},
   "source": [
    "## Load model"
   ]
  },
  {
   "cell_type": "code",
   "execution_count": 4,
   "metadata": {},
   "outputs": [],
   "source": [
    "model = path_rnn.PathRNN(n_units=NUM_UNITS)\n",
    "model.load_state_dict(torch.load(MODEL_FPATH))\n",
    "model.eval();"
   ]
  },
  {
   "cell_type": "markdown",
   "metadata": {},
   "source": [
    "## Run model on all trials"
   ]
  },
  {
   "cell_type": "code",
   "execution_count": 5,
   "id": "e6410022",
   "metadata": {},
   "outputs": [],
   "source": [
    "# Convert velocity array to Tensor in order to run model\n",
    "vel_t = torch.Tensor(vel)\n",
    "\n",
    "# Predict estimated position\n",
    "pos_est_t = model(vel_t)\n",
    "\n",
    "# Convert estimated position back to Numpy array\n",
    "pos_est = pos_est_t[0].detach().numpy()"
   ]
  },
  {
   "cell_type": "markdown",
   "metadata": {},
   "source": [
    "## Plot results"
   ]
  },
  {
   "cell_type": "code",
   "execution_count": 6,
   "metadata": {},
   "outputs": [],
   "source": [
    "if sim_params['boundary_type'] == 'square':\n",
    "    boundary = motion.SquareBoundary(sim_params['boundary_height'])\n",
    "else:\n",
    "    raise ValueError(f'Boundary not supported.')"
   ]
  },
  {
   "cell_type": "code",
   "execution_count": 14,
   "id": "555425c6",
   "metadata": {},
   "outputs": [
    {
     "data": {
      "image/png": "[encoded data removed]",
      "text/plain": [
       "<Figure size 432x288 with 1 Axes>"
      ]
     },
     "metadata": {
      "needs_background": "light"
     },
     "output_type": "display_data"
    }
   ],
   "source": [
    "trial_plt = 100\n",
    "\n",
    "fig, ax = plt.subplots(1, 1)\n",
    "ax.set_aspect('equal')\n",
    "ax.set_title(f'Trial: {trial_plt}')\n",
    "motion.plot_position_estimate(boundary, pos[trial_plt], pos_est[trial_plt], ax)"
   ]
  },
  {
   "cell_type": "code",
   "execution_count": 8,
   "metadata": {},
   "outputs": [
    {
     "name": "stdout",
     "output_type": "stream",
     "text": [
      "weight_ih_l0\n",
      "Parameter containing:\n",
      "tensor([[-0.1718,  1.5483],\n",
      "        [-0.1292, -0.4102],\n",
      "        [-0.3061,  0.1642],\n",
      "        [-0.9936, -0.3581],\n",
      "        [ 0.3181, -0.1996],\n",
      "        [-1.0557, -0.0293],\n",
      "        [-0.2818,  0.0152],\n",
      "        [ 0.7478, -0.0121],\n",
      "        [ 0.6135, -0.2598],\n",
      "        [-0.6551,  0.2139],\n",
      "        [ 1.5744,  1.0382],\n",
      "        [-0.0790,  0.1000],\n",
      "        [-0.5369, -1.4560],\n",
      "        [ 0.4031,  0.3581],\n",
      "        [-0.4964,  0.1069],\n",
      "        [ 0.2016, -0.3155],\n",
      "        [ 0.5400,  1.0037],\n",
      "        [ 0.7430, -0.0561],\n",
      "        [ 0.3918,  0.5284],\n",
      "        [ 0.4819, -0.8015],\n",
      "        [-1.1654, -0.3105],\n",
      "        [-0.9738,  0.7287],\n",
      "        [-0.4013, -0.2670],\n",
      "        [-0.0506,  0.0024],\n",
      "        [-0.6532,  0.7388],\n",
      "        [ 1.1310, -0.5003],\n",
      "        [-0.5994,  0.3990],\n",
      "        [ 0.1111, -0.3393],\n",
      "        [ 0.4710,  0.0225],\n",
      "        [-0.5873, -0.8143],\n",
      "        [ 0.0457,  0.2726],\n",
      "        [-0.1574,  0.5393],\n",
      "        [-0.2725, -0.8273],\n",
      "        [-0.4589, -0.6130],\n",
      "        [-0.0370, -1.5206],\n",
      "        [-0.0052, -0.6624],\n",
      "        [ 0.7455, -0.2779],\n",
      "        [ 0.5974,  0.3159],\n",
      "        [-0.8166, -0.7991],\n",
      "        [-0.1796,  0.7466],\n",
      "        [ 0.7729, -0.0954],\n",
      "        [ 0.8376,  0.9946],\n",
      "        [ 0.8560, -0.7292],\n",
      "        [ 1.1871,  0.1790],\n",
      "        [-0.1335, -0.4861],\n",
      "        [-1.0877, -0.1615],\n",
      "        [-0.0434, -0.8748],\n",
      "        [-0.5881,  0.2320],\n",
      "        [ 1.1224,  0.0261],\n",
      "        [-0.6923,  0.3883],\n",
      "        [-0.5519, -0.3193],\n",
      "        [-0.5086, -0.0325],\n",
      "        [-1.0265, -0.0189],\n",
      "        [ 0.4983, -0.0157],\n",
      "        [ 0.6946,  0.6224],\n",
      "        [-0.6203,  0.1559],\n",
      "        [-0.4503,  0.8618],\n",
      "        [-0.2832, -0.2629],\n",
      "        [ 0.0971, -0.4609],\n",
      "        [-0.2919,  1.5245],\n",
      "        [ 0.8589,  0.4511],\n",
      "        [ 0.8696, -1.5840],\n",
      "        [-0.1426,  0.0338],\n",
      "        [-0.0869,  1.1541],\n",
      "        [-0.6325,  0.2061],\n",
      "        [ 0.6080,  1.3462],\n",
      "        [ 1.1756,  0.7640],\n",
      "        [-0.2565, -0.1028],\n",
      "        [-0.3454, -0.3242],\n",
      "        [-0.1949,  0.9106],\n",
      "        [ 0.8048, -0.7089],\n",
      "        [ 0.7682,  0.6516],\n",
      "        [-0.7279, -0.1187],\n",
      "        [ 0.1335,  1.7423],\n",
      "        [ 0.4448, -0.6636],\n",
      "        [ 0.3343,  0.6626],\n",
      "        [-0.7663,  0.5385],\n",
      "        [ 0.7917, -0.1082],\n",
      "        [-0.1501, -1.0750],\n",
      "        [ 0.5465,  0.0697],\n",
      "        [-0.1467,  0.6828],\n",
      "        [ 0.1831,  0.3001],\n",
      "        [-0.0447, -0.0641],\n",
      "        [-0.0046,  0.8640],\n",
      "        [ 0.1477, -0.4473],\n",
      "        [-0.0848,  0.2698],\n",
      "        [-1.2142, -0.6669],\n",
      "        [ 0.2539, -1.2574],\n",
      "        [ 0.6662, -1.7339],\n",
      "        [ 1.0016,  0.9030],\n",
      "        [ 0.7848, -0.3788],\n",
      "        [ 0.3285,  0.4040],\n",
      "        [ 0.6831, -0.3882],\n",
      "        [-1.5406, -0.1341],\n",
      "        [ 0.1834,  1.2561],\n",
      "        [-1.0032,  0.0411],\n",
      "        [ 0.0604,  1.0743],\n",
      "        [-0.6521, -0.0151],\n",
      "        [-0.8602, -0.2022],\n",
      "        [ 0.6680, -0.2298]], requires_grad=True)\n",
      "weight_hh_l0\n",
      "Parameter containing:\n",
      "tensor([[-0.0791,  0.0570, -0.2346,  ...,  0.1522,  0.3451, -0.0789],\n",
      "        [ 0.0609,  0.0202,  0.0609,  ..., -0.0459,  0.1595, -0.0309],\n",
      "        [-0.0070,  0.1194,  0.0923,  ...,  0.2861,  0.0075, -0.0498],\n",
      "        ...,\n",
      "        [ 0.2048,  0.0139, -0.0823,  ...,  0.0499,  0.0496, -0.1584],\n",
      "        [-0.0112,  0.0208,  0.1436,  ..., -0.0102, -0.1217,  0.0436],\n",
      "        [ 0.0449, -0.0121,  0.3255,  ...,  0.0579,  0.0233, -0.0883]],\n",
      "       requires_grad=True)\n"
     ]
    }
   ],
   "source": [
    "for name, param in model.rnn.named_parameters():\n",
    "    print(name)\n",
    "    print(param)\n",
    "    "
   ]
  },
  {
   "cell_type": "code",
   "execution_count": 9,
   "metadata": {},
   "outputs": [
    {
     "name": "stdout",
     "output_type": "stream",
     "text": [
      "Parameter containing:\n",
      "tensor([[-0.0791,  0.0570, -0.2346,  ...,  0.1522,  0.3451, -0.0789],\n",
      "        [ 0.0609,  0.0202,  0.0609,  ..., -0.0459,  0.1595, -0.0309],\n",
      "        [-0.0070,  0.1194,  0.0923,  ...,  0.2861,  0.0075, -0.0498],\n",
      "        ...,\n",
      "        [ 0.2048,  0.0139, -0.0823,  ...,  0.0499,  0.0496, -0.1584],\n",
      "        [-0.0112,  0.0208,  0.1436,  ..., -0.0102, -0.1217,  0.0436],\n",
      "        [ 0.0449, -0.0121,  0.3255,  ...,  0.0579,  0.0233, -0.0883]],\n",
      "       requires_grad=True)\n"
     ]
    }
   ],
   "source": [
    "print(model.rnn.get_parameter('weight_hh_l0'))"
   ]
  },
  {
   "cell_type": "code",
   "execution_count": null,
   "metadata": {},
   "outputs": [],
   "source": []
  }
 ],
 "metadata": {
  "interpreter": {
   "hash": "5469451a7668bc176f43f4c591685b099e36316da00984df6385c7ba655407c5"
  },
  "kernelspec": {
   "display_name": "Python 3.9.7 ('spatial-rnn')",
   "language": "python",
   "name": "python3"
  },
  "language_info": {
   "codemirror_mode": {
    "name": "ipython",
    "version": 3
   },
   "file_extension": ".py",
   "mimetype": "text/x-python",
   "name": "python",
   "nbconvert_exporter": "python",
   "pygments_lexer": "ipython3",
   "version": "3.9.7"
  },
  "orig_nbformat": 4
 },
 "nbformat": 4,
 "nbformat_minor": 2
}
