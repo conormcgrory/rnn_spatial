{
 "cells": [
  {
   "cell_type": "markdown",
   "metadata": {},
   "source": [
    "# Examine Trained RNN Model"
   ]
  },
  {
   "cell_type": "code",
   "execution_count": 1,
   "metadata": {},
   "outputs": [],
   "source": [
    "import numpy as np\n",
    "import matplotlib.pyplot as plt\n",
    "import torch\n",
    "import motion, path_rnn"
   ]
  },
  {
   "cell_type": "code",
   "execution_count": 2,
   "metadata": {},
   "outputs": [],
   "source": [
    "# Directory where test data is loaded from\n",
    "TEST_DATA_DIR = 'data/sim_2022_04_05'\n",
    "\n",
    "# Path where model is saved\n",
    "MODEL_FPATH = 'models/test_2022_03_29.pt'\n",
    "\n",
    "# Number of units in RNN\n",
    "NUM_UNITS = 32"
   ]
  },
  {
   "cell_type": "markdown",
   "metadata": {},
   "source": [
    "## Load test data"
   ]
  },
  {
   "cell_type": "code",
   "execution_count": 3,
   "metadata": {},
   "outputs": [],
   "source": [
    "sim_params, vel, pos = motion.load_simulation_results(TEST_DATA_DIR)"
   ]
  },
  {
   "cell_type": "markdown",
   "metadata": {},
   "source": [
    "## Load model"
   ]
  },
  {
   "cell_type": "code",
   "execution_count": 4,
   "metadata": {},
   "outputs": [],
   "source": [
    "model = path_rnn.PathRNN(n_units=NUM_UNITS)\n",
    "model.load_state_dict(torch.load(MODEL_FPATH))\n",
    "model.eval();"
   ]
  },
  {
   "cell_type": "markdown",
   "metadata": {},
   "source": [
    "## Run model on all trials"
   ]
  },
  {
   "cell_type": "code",
   "execution_count": 5,
   "id": "e6410022",
   "metadata": {},
   "outputs": [],
   "source": [
    "# Convert velocity array to Tensor in order to run model\n",
    "vel_t = torch.Tensor(vel)\n",
    "\n",
    "# Predict estimated position\n",
    "pos_est_t = model(vel_t)\n",
    "\n",
    "# Convert estimated position back to Numpy array\n",
    "pos_est = pos_est_t[0].detach().numpy()"
   ]
  },
  {
   "cell_type": "markdown",
   "metadata": {},
   "source": [
    "## Plot results"
   ]
  },
  {
   "cell_type": "code",
   "execution_count": 6,
   "metadata": {},
   "outputs": [],
   "source": [
    "if sim_params['boundary_type'] == 'square':\n",
    "    boundary = motion.SquareBoundary(sim_params['boundary_height'])\n",
    "else:\n",
    "    raise ValueError(f'Boundary not supported.')"
   ]
  },
  {
   "cell_type": "code",
   "execution_count": 9,
   "id": "555425c6",
   "metadata": {},
   "outputs": [
    {
     "data": {
      "image/png": "[encoded data removed]",
      "text/plain": [
       "<Figure size 432x288 with 1 Axes>"
      ]
     },
     "metadata": {
      "needs_background": "light"
     },
     "output_type": "display_data"
    }
   ],
   "source": [
    "trial_plt = 2\n",
    "\n",
    "fig, ax = plt.subplots(1, 1)\n",
    "ax.set_aspect('equal')\n",
    "ax.set_title(f'Trial: {trial_plt}')\n",
    "motion.plot_position_estimate(boundary, pos[trial_plt], pos_est[trial_plt], ax)"
   ]
  }
 ],
 "metadata": {
  "interpreter": {
   "hash": "5469451a7668bc176f43f4c591685b099e36316da00984df6385c7ba655407c5"
  },
  "kernelspec": {
   "display_name": "Python 3.9.7 ('spatial-rnn')",
   "language": "python",
   "name": "python3"
  },
  "language_info": {
   "codemirror_mode": {
    "name": "ipython",
    "version": 3
   },
   "file_extension": ".py",
   "mimetype": "text/x-python",
   "name": "python",
   "nbconvert_exporter": "python",
   "pygments_lexer": "ipython3",
   "version": "3.9.7"
  },
  "orig_nbformat": 4
 },
 "nbformat": 4,
 "nbformat_minor": 2
}
