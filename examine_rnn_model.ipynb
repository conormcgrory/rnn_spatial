{
 "cells": [
  {
   "cell_type": "markdown",
   "metadata": {},
   "source": [
    "# Examine Trained RNN Model"
   ]
  },
  {
   "cell_type": "code",
   "execution_count": 1,
   "metadata": {},
   "outputs": [],
   "source": [
    "import numpy as np\n",
    "import matplotlib.pyplot as plt\n",
    "import torch\n",
    "import motion, path_rnn"
   ]
  },
  {
   "cell_type": "code",
   "execution_count": 2,
   "metadata": {},
   "outputs": [],
   "source": [
    "# Directory where test data is loaded from\n",
    "TEST_DATA_DIR = 'data/sim_2022_04_12'\n",
    "\n",
    "# Path where model is saved\n",
    "MODEL_FPATH = 'models/test_2022_04_14.pt'\n",
    "\n",
    "# Number of units in RNN\n",
    "NUM_UNITS = 100"
   ]
  },
  {
   "cell_type": "markdown",
   "metadata": {},
   "source": [
    "## Load test data"
   ]
  },
  {
   "cell_type": "code",
   "execution_count": 3,
   "metadata": {},
   "outputs": [],
   "source": [
    "sim_params, vel, pos = motion.load_simulation_results(TEST_DATA_DIR)"
   ]
  },
  {
   "cell_type": "markdown",
   "metadata": {},
   "source": [
    "## Load model"
   ]
  },
  {
   "cell_type": "code",
   "execution_count": 4,
   "metadata": {},
   "outputs": [],
   "source": [
    "model = path_rnn.PathRNN(n_units=NUM_UNITS)\n",
    "model.load_state_dict(torch.load(MODEL_FPATH))\n",
    "model.eval();"
   ]
  },
  {
   "cell_type": "markdown",
   "metadata": {},
   "source": [
    "## Run model on all trials"
   ]
  },
  {
   "cell_type": "code",
   "execution_count": 5,
   "id": "e6410022",
   "metadata": {},
   "outputs": [],
   "source": [
    "# Convert velocity array to Tensor in order to run model\n",
    "vel_t = torch.Tensor(vel)\n",
    "\n",
    "# Predict estimated position\n",
    "pos_est_t = model(vel_t)\n",
    "\n",
    "# Convert estimated position back to Numpy array\n",
    "pos_est = pos_est_t[0].detach().numpy()"
   ]
  },
  {
   "cell_type": "markdown",
   "metadata": {},
   "source": [
    "## Plot results"
   ]
  },
  {
   "cell_type": "code",
   "execution_count": 6,
   "metadata": {},
   "outputs": [],
   "source": [
    "if sim_params['boundary_type'] == 'square':\n",
    "    boundary = motion.SquareBoundary(sim_params['boundary_height'])\n",
    "else:\n",
    "    raise ValueError(f'Boundary not supported.')"
   ]
  },
  {
   "cell_type": "code",
   "execution_count": 7,
   "id": "555425c6",
   "metadata": {},
   "outputs": [
    {
     "data": {
      "image/png": "[encoded data removed]",
      "text/plain": [
       "<Figure size 432x288 with 1 Axes>"
      ]
     },
     "metadata": {
      "needs_background": "light"
     },
     "output_type": "display_data"
    }
   ],
   "source": [
    "trial_plt = 25\n",
    "\n",
    "fig, ax = plt.subplots(1, 1)\n",
    "ax.set_aspect('equal')\n",
    "ax.set_title(f'Trial: {trial_plt}')\n",
    "motion.plot_position_estimate(boundary, pos[trial_plt], pos_est[trial_plt], ax)"
   ]
  },
  {
   "cell_type": "code",
   "execution_count": 11,
   "metadata": {},
   "outputs": [
    {
     "name": "stdout",
     "output_type": "stream",
     "text": [
      "weight_ih_l0\n",
      "Parameter containing:\n",
      "tensor([[-6.7640e-02,  5.9900e-01],\n",
      "        [-1.7657e-01,  2.1171e-01],\n",
      "        [ 4.4808e-01, -4.0825e-01],\n",
      "        [ 9.6704e-01, -1.7877e-01],\n",
      "        [-4.5101e-01,  5.9150e-01],\n",
      "        [ 5.9959e-01, -1.0773e+00],\n",
      "        [-3.1704e-01,  9.1509e-01],\n",
      "        [ 5.4870e-01,  2.8217e-02],\n",
      "        [ 1.0320e-01,  1.3826e-01],\n",
      "        [ 4.0954e-01, -4.0072e-01],\n",
      "        [ 1.7311e-01,  1.2259e+00],\n",
      "        [ 8.2410e-01, -2.4055e-01],\n",
      "        [ 2.0874e-01, -2.7972e-01],\n",
      "        [ 1.7041e-01,  1.2511e+00],\n",
      "        [-3.2955e-01,  4.3443e-01],\n",
      "        [-1.1468e+00,  3.4710e-01],\n",
      "        [ 3.6260e-01, -5.2668e-01],\n",
      "        [ 8.9838e-01, -1.1980e+00],\n",
      "        [ 9.0439e-02,  6.2717e-01],\n",
      "        [-8.9785e-01,  3.0879e-01],\n",
      "        [-1.4617e-01,  3.0085e-01],\n",
      "        [ 2.1153e-01,  9.5384e-01],\n",
      "        [ 5.4561e-01, -2.3823e-01],\n",
      "        [-4.1202e-01, -3.8526e-01],\n",
      "        [ 1.3532e-02,  6.5243e-01],\n",
      "        [-2.7925e-01, -6.6607e-01],\n",
      "        [ 2.6271e-01, -4.0848e-01],\n",
      "        [ 4.8925e-01, -6.8694e-01],\n",
      "        [ 1.6187e-01,  4.6433e-02],\n",
      "        [ 1.6908e-01,  6.5595e-01],\n",
      "        [ 1.2198e+00,  8.2529e-01],\n",
      "        [-6.4950e-01,  3.6472e-01],\n",
      "        [ 7.9281e-01,  4.2274e-01],\n",
      "        [ 6.3206e-02, -1.4027e+00],\n",
      "        [ 3.8323e-01, -1.3365e+00],\n",
      "        [ 2.6868e-01,  1.0132e+00],\n",
      "        [-1.9491e-01, -1.2353e+00],\n",
      "        [ 1.4190e-01,  4.1289e-01],\n",
      "        [ 3.2483e-01,  1.3760e+00],\n",
      "        [ 3.2494e-01, -3.7933e-01],\n",
      "        [ 7.2957e-02,  1.8512e-01],\n",
      "        [ 4.9843e-02,  7.4039e-02],\n",
      "        [-2.0934e-01, -7.4919e-03],\n",
      "        [ 2.5107e-01, -2.8745e-01],\n",
      "        [-6.6946e-01, -1.5236e-01],\n",
      "        [ 8.6826e-02,  4.3697e-01],\n",
      "        [ 4.9592e-02, -8.2367e-01],\n",
      "        [ 2.0882e-01, -6.6499e-02],\n",
      "        [-1.6294e-01, -1.1948e-02],\n",
      "        [-3.3249e-02,  9.2708e-02],\n",
      "        [ 5.8110e-01,  4.4754e-01],\n",
      "        [ 3.3248e-02, -6.8141e-02],\n",
      "        [-3.6260e-01,  3.0871e-01],\n",
      "        [-3.7835e-01, -5.8265e-01],\n",
      "        [-3.0565e-01,  3.7144e-01],\n",
      "        [ 5.3616e-01,  1.1400e-01],\n",
      "        [ 7.8624e-01,  8.7227e-01],\n",
      "        [ 1.0110e+00, -3.6269e-01],\n",
      "        [-5.5903e-01, -1.3934e-01],\n",
      "        [ 6.2476e-01, -3.1703e-01],\n",
      "        [-7.0625e-02,  6.9335e-02],\n",
      "        [ 4.9734e-01, -2.8338e-01],\n",
      "        [ 1.3304e-01,  2.7578e-01],\n",
      "        [-4.6235e-01, -6.0218e-01],\n",
      "        [-9.0248e-01,  7.7585e-01],\n",
      "        [-6.9579e-01,  1.2827e-01],\n",
      "        [-2.4622e-01, -5.3762e-01],\n",
      "        [-6.4062e-01, -4.8211e-01],\n",
      "        [ 6.1154e-01,  2.1431e-01],\n",
      "        [-2.2353e-01, -4.6129e-01],\n",
      "        [-1.1928e+00, -3.1158e-01],\n",
      "        [ 2.1051e-01,  4.6554e-01],\n",
      "        [-1.7058e-01, -2.7564e-03],\n",
      "        [ 6.4165e-01, -7.7656e-01],\n",
      "        [-3.6517e-02, -1.7273e+00],\n",
      "        [-8.3343e-04, -2.4107e-01],\n",
      "        [-4.0573e-01, -3.6752e-01],\n",
      "        [ 4.0157e-02,  1.6764e-01],\n",
      "        [-4.0088e-01,  5.1038e-01],\n",
      "        [ 2.3772e-01, -1.2312e-01],\n",
      "        [-6.8658e-01, -1.2755e+00],\n",
      "        [-7.7980e-01, -1.2845e-01],\n",
      "        [ 4.3318e-01,  4.5844e-01],\n",
      "        [ 1.3260e-01, -1.3663e-01],\n",
      "        [-4.9048e-01, -6.5614e-01],\n",
      "        [-7.7118e-02,  7.5613e-01],\n",
      "        [-4.8510e-01,  6.8450e-01],\n",
      "        [-1.0039e-01,  5.5277e-01],\n",
      "        [ 9.2974e-01, -7.1199e-01],\n",
      "        [ 1.7589e-01,  8.5392e-02],\n",
      "        [ 2.1124e-01,  1.2513e+00],\n",
      "        [-1.0472e-01,  1.2991e-01],\n",
      "        [ 2.2893e-02,  2.8471e-01],\n",
      "        [-4.8058e-01,  3.5113e-01],\n",
      "        [ 1.9144e-01,  4.6563e-01],\n",
      "        [ 4.2667e-01,  1.9930e-01],\n",
      "        [-4.5961e-01, -5.3244e-01],\n",
      "        [-2.5212e-01,  1.0358e+00],\n",
      "        [ 2.2354e-01, -3.8773e-04],\n",
      "        [-8.1243e-02,  4.9490e-01]], requires_grad=True)\n",
      "weight_hh_l0\n",
      "Parameter containing:\n",
      "tensor([[-0.0320,  0.0860,  0.0916,  ...,  0.1342, -0.1809, -0.0689],\n",
      "        [ 0.0130, -0.0157, -0.0466,  ..., -0.0547, -0.0119, -0.0515],\n",
      "        [-0.0472, -0.0107, -0.0123,  ..., -0.0059, -0.0398, -0.0559],\n",
      "        ...,\n",
      "        [ 0.0716,  0.0197,  0.1029,  ..., -0.0453, -0.0756, -0.1041],\n",
      "        [-0.0487, -0.2006,  0.0639,  ..., -0.0800, -0.0310,  0.0924],\n",
      "        [-0.0277,  0.1346, -0.1053,  ..., -0.0667, -0.0466, -0.1259]],\n",
      "       requires_grad=True)\n",
      "Parameter containing:\n",
      "tensor([[-6.7640e-02,  5.9900e-01],\n",
      "        [-1.7657e-01,  2.1171e-01],\n",
      "        [ 4.4808e-01, -4.0825e-01],\n",
      "        [ 9.6704e-01, -1.7877e-01],\n",
      "        [-4.5101e-01,  5.9150e-01],\n",
      "        [ 5.9959e-01, -1.0773e+00],\n",
      "        [-3.1704e-01,  9.1509e-01],\n",
      "        [ 5.4870e-01,  2.8217e-02],\n",
      "        [ 1.0320e-01,  1.3826e-01],\n",
      "        [ 4.0954e-01, -4.0072e-01],\n",
      "        [ 1.7311e-01,  1.2259e+00],\n",
      "        [ 8.2410e-01, -2.4055e-01],\n",
      "        [ 2.0874e-01, -2.7972e-01],\n",
      "        [ 1.7041e-01,  1.2511e+00],\n",
      "        [-3.2955e-01,  4.3443e-01],\n",
      "        [-1.1468e+00,  3.4710e-01],\n",
      "        [ 3.6260e-01, -5.2668e-01],\n",
      "        [ 8.9838e-01, -1.1980e+00],\n",
      "        [ 9.0439e-02,  6.2717e-01],\n",
      "        [-8.9785e-01,  3.0879e-01],\n",
      "        [-1.4617e-01,  3.0085e-01],\n",
      "        [ 2.1153e-01,  9.5384e-01],\n",
      "        [ 5.4561e-01, -2.3823e-01],\n",
      "        [-4.1202e-01, -3.8526e-01],\n",
      "        [ 1.3532e-02,  6.5243e-01],\n",
      "        [-2.7925e-01, -6.6607e-01],\n",
      "        [ 2.6271e-01, -4.0848e-01],\n",
      "        [ 4.8925e-01, -6.8694e-01],\n",
      "        [ 1.6187e-01,  4.6433e-02],\n",
      "        [ 1.6908e-01,  6.5595e-01],\n",
      "        [ 1.2198e+00,  8.2529e-01],\n",
      "        [-6.4950e-01,  3.6472e-01],\n",
      "        [ 7.9281e-01,  4.2274e-01],\n",
      "        [ 6.3206e-02, -1.4027e+00],\n",
      "        [ 3.8323e-01, -1.3365e+00],\n",
      "        [ 2.6868e-01,  1.0132e+00],\n",
      "        [-1.9491e-01, -1.2353e+00],\n",
      "        [ 1.4190e-01,  4.1289e-01],\n",
      "        [ 3.2483e-01,  1.3760e+00],\n",
      "        [ 3.2494e-01, -3.7933e-01],\n",
      "        [ 7.2957e-02,  1.8512e-01],\n",
      "        [ 4.9843e-02,  7.4039e-02],\n",
      "        [-2.0934e-01, -7.4919e-03],\n",
      "        [ 2.5107e-01, -2.8745e-01],\n",
      "        [-6.6946e-01, -1.5236e-01],\n",
      "        [ 8.6826e-02,  4.3697e-01],\n",
      "        [ 4.9592e-02, -8.2367e-01],\n",
      "        [ 2.0882e-01, -6.6499e-02],\n",
      "        [-1.6294e-01, -1.1948e-02],\n",
      "        [-3.3249e-02,  9.2708e-02],\n",
      "        [ 5.8110e-01,  4.4754e-01],\n",
      "        [ 3.3248e-02, -6.8141e-02],\n",
      "        [-3.6260e-01,  3.0871e-01],\n",
      "        [-3.7835e-01, -5.8265e-01],\n",
      "        [-3.0565e-01,  3.7144e-01],\n",
      "        [ 5.3616e-01,  1.1400e-01],\n",
      "        [ 7.8624e-01,  8.7227e-01],\n",
      "        [ 1.0110e+00, -3.6269e-01],\n",
      "        [-5.5903e-01, -1.3934e-01],\n",
      "        [ 6.2476e-01, -3.1703e-01],\n",
      "        [-7.0625e-02,  6.9335e-02],\n",
      "        [ 4.9734e-01, -2.8338e-01],\n",
      "        [ 1.3304e-01,  2.7578e-01],\n",
      "        [-4.6235e-01, -6.0218e-01],\n",
      "        [-9.0248e-01,  7.7585e-01],\n",
      "        [-6.9579e-01,  1.2827e-01],\n",
      "        [-2.4622e-01, -5.3762e-01],\n",
      "        [-6.4062e-01, -4.8211e-01],\n",
      "        [ 6.1154e-01,  2.1431e-01],\n",
      "        [-2.2353e-01, -4.6129e-01],\n",
      "        [-1.1928e+00, -3.1158e-01],\n",
      "        [ 2.1051e-01,  4.6554e-01],\n",
      "        [-1.7058e-01, -2.7564e-03],\n",
      "        [ 6.4165e-01, -7.7656e-01],\n",
      "        [-3.6517e-02, -1.7273e+00],\n",
      "        [-8.3343e-04, -2.4107e-01],\n",
      "        [-4.0573e-01, -3.6752e-01],\n",
      "        [ 4.0157e-02,  1.6764e-01],\n",
      "        [-4.0088e-01,  5.1038e-01],\n",
      "        [ 2.3772e-01, -1.2312e-01],\n",
      "        [-6.8658e-01, -1.2755e+00],\n",
      "        [-7.7980e-01, -1.2845e-01],\n",
      "        [ 4.3318e-01,  4.5844e-01],\n",
      "        [ 1.3260e-01, -1.3663e-01],\n",
      "        [-4.9048e-01, -6.5614e-01],\n",
      "        [-7.7118e-02,  7.5613e-01],\n",
      "        [-4.8510e-01,  6.8450e-01],\n",
      "        [-1.0039e-01,  5.5277e-01],\n",
      "        [ 9.2974e-01, -7.1199e-01],\n",
      "        [ 1.7589e-01,  8.5392e-02],\n",
      "        [ 2.1124e-01,  1.2513e+00],\n",
      "        [-1.0472e-01,  1.2991e-01],\n",
      "        [ 2.2893e-02,  2.8471e-01],\n",
      "        [-4.8058e-01,  3.5113e-01],\n",
      "        [ 1.9144e-01,  4.6563e-01],\n",
      "        [ 4.2667e-01,  1.9930e-01],\n",
      "        [-4.5961e-01, -5.3244e-01],\n",
      "        [-2.5212e-01,  1.0358e+00],\n",
      "        [ 2.2354e-01, -3.8773e-04],\n",
      "        [-8.1243e-02,  4.9490e-01]], requires_grad=True)\n"
     ]
    }
   ],
   "source": [
    "for name, param in model.rnn.named_parameters():\n",
    "    print(name)\n",
    "    print(param)\n",
    "    "
   ]
  },
  {
   "cell_type": "code",
   "execution_count": 14,
   "metadata": {},
   "outputs": [
    {
     "name": "stdout",
     "output_type": "stream",
     "text": [
      "Parameter containing:\n",
      "tensor([[-0.0320,  0.0860,  0.0916,  ...,  0.1342, -0.1809, -0.0689],\n",
      "        [ 0.0130, -0.0157, -0.0466,  ..., -0.0547, -0.0119, -0.0515],\n",
      "        [-0.0472, -0.0107, -0.0123,  ..., -0.0059, -0.0398, -0.0559],\n",
      "        ...,\n",
      "        [ 0.0716,  0.0197,  0.1029,  ..., -0.0453, -0.0756, -0.1041],\n",
      "        [-0.0487, -0.2006,  0.0639,  ..., -0.0800, -0.0310,  0.0924],\n",
      "        [-0.0277,  0.1346, -0.1053,  ..., -0.0667, -0.0466, -0.1259]],\n",
      "       requires_grad=True)\n"
     ]
    }
   ],
   "source": [
    "print(model.rnn.get_parameter('weight_hh_l0'))"
   ]
  },
  {
   "cell_type": "code",
   "execution_count": null,
   "metadata": {},
   "outputs": [],
   "source": []
  }
 ],
 "metadata": {
  "interpreter": {
   "hash": "5469451a7668bc176f43f4c591685b099e36316da00984df6385c7ba655407c5"
  },
  "kernelspec": {
   "display_name": "Python 3.9.7 ('spatial-rnn')",
   "language": "python",
   "name": "python3"
  },
  "language_info": {
   "codemirror_mode": {
    "name": "ipython",
    "version": 3
   },
   "file_extension": ".py",
   "mimetype": "text/x-python",
   "name": "python",
   "nbconvert_exporter": "python",
   "pygments_lexer": "ipython3",
   "version": "3.9.7"
  },
  "orig_nbformat": 4
 },
 "nbformat": 4,
 "nbformat_minor": 2
}
