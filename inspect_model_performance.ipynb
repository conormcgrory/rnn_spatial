{
 "cells": [
  {
   "cell_type": "markdown",
   "metadata": {},
   "source": [
    "# Inspect model performance on test data"
   ]
  },
  {
   "cell_type": "code",
   "execution_count": null,
   "metadata": {},
   "outputs": [],
   "source": [
    "import dataclasses\n",
    "\n",
    "import numpy as np\n",
    "import matplotlib.pyplot as plt\n",
    "import torch\n",
    "\n",
    "import trajectory\n",
    "import run"
   ]
  },
  {
   "cell_type": "code",
   "execution_count": null,
   "metadata": {},
   "outputs": [],
   "source": [
    "# Directory where model is loaded from\n",
    "RUN_DIRPATH = 'models/20220510_01'\n",
    "\n",
    "# Number of trajectories to sample\n",
    "N_TRIALS = 500"
   ]
  },
  {
   "cell_type": "markdown",
   "metadata": {},
   "source": [
    "## Load model"
   ]
  },
  {
   "cell_type": "code",
   "execution_count": null,
   "metadata": {},
   "outputs": [],
   "source": [
    "run_params, model = run.load_run(RUN_DIRPATH)\n",
    "run_params.print()"
   ]
  },
  {
   "cell_type": "markdown",
   "metadata": {},
   "source": [
    "## Simulate trajectories"
   ]
  },
  {
   "cell_type": "code",
   "execution_count": null,
   "metadata": {},
   "outputs": [],
   "source": [
    "# Use trajectory generator with different random seed for test data\n",
    "traj_params = dataclasses.replace(run_params.traj)\n",
    "traj_params.rng_seed = run_params.traj.rng_seed + 1\n",
    "\n",
    "# Sample batch\n",
    "tgen = trajectory.TrajectoryGenerator(traj_params)\n",
    "vel, pos = tgen.smp_batch(N_TRIALS)"
   ]
  },
  {
   "cell_type": "markdown",
   "metadata": {},
   "source": [
    "## Run model on all trials"
   ]
  },
  {
   "cell_type": "code",
   "execution_count": null,
   "id": "e6410022",
   "metadata": {},
   "outputs": [],
   "source": [
    "# Convert velocity array to Tensor in order to run model\n",
    "vel_t = torch.Tensor(vel)\n",
    "\n",
    "# Predict estimated position\n",
    "pos_est_t, u_vals_t = model(vel_t)\n",
    "\n",
    "# Convert estimated position back to Numpy array\n",
    "pos_est = pos_est_t.detach().numpy()\n",
    "u_vals = u_vals_t.detach().numpy()"
   ]
  },
  {
   "cell_type": "markdown",
   "metadata": {},
   "source": [
    "## Plot results"
   ]
  },
  {
   "cell_type": "code",
   "execution_count": null,
   "metadata": {},
   "outputs": [],
   "source": [
    "boundary = trajectory.SquareBoundary(run_params.traj.boundary_height)"
   ]
  },
  {
   "cell_type": "code",
   "execution_count": null,
   "id": "555425c6",
   "metadata": {},
   "outputs": [],
   "source": [
    "trial_plt = 100\n",
    "t_start = 0\n",
    "t_stop = 450\n",
    "\n",
    "pos_plt = pos[trial_plt][t_start:t_stop]\n",
    "pos_est_plt = pos_est[trial_plt][t_start:t_stop]\n",
    "\n",
    "fig, ax = plt.subplots(1, 1)\n",
    "ax.set_aspect('equal')\n",
    "ax.set_title(f'Trial: {trial_plt}')\n",
    "trajectory.plot_position_estimate(boundary, pos_plt, pos_est_plt, ax)"
   ]
  },
  {
   "cell_type": "code",
   "execution_count": null,
   "metadata": {},
   "outputs": [],
   "source": []
  }
 ],
 "metadata": {
  "interpreter": {
   "hash": "5469451a7668bc176f43f4c591685b099e36316da00984df6385c7ba655407c5"
  },
  "kernelspec": {
   "display_name": "Python 3.9.7 ('spatial-rnn')",
   "language": "python",
   "name": "python3"
  },
  "language_info": {
   "codemirror_mode": {
    "name": "ipython",
    "version": 3
   },
   "file_extension": ".py",
   "mimetype": "text/x-python",
   "name": "python",
   "nbconvert_exporter": "python",
   "pygments_lexer": "ipython3",
   "version": "3.9.7"
  },
  "orig_nbformat": 4
 },
 "nbformat": 4,
 "nbformat_minor": 2
}
