{
 "cells": [
  {
   "cell_type": "markdown",
   "id": "0d64be88",
   "metadata": {},
   "source": [
    "# Animal movement simulation"
   ]
  },
  {
   "cell_type": "code",
   "execution_count": 1,
   "id": "f2f9e706",
   "metadata": {},
   "outputs": [],
   "source": [
    "import numpy as np\n",
    "import matplotlib.pyplot as plt\n",
    "\n",
    "from motion import MotionSimulation"
   ]
  },
  {
   "cell_type": "code",
   "execution_count": 2,
   "id": "2ddedf6e",
   "metadata": {},
   "outputs": [],
   "source": [
    "sim = MotionSimulation(boundary='rectangle', time_step=0.1, std=1.0, speed=1.0)"
   ]
  },
  {
   "cell_type": "code",
   "execution_count": 3,
   "id": "03dc2206-3fa1-4d99-8416-58528cf2089d",
   "metadata": {},
   "outputs": [
    {
     "ename": "KeyboardInterrupt",
     "evalue": "",
     "output_type": "error",
     "traceback": [
      "\u001b[0;31m---------------------------------------------------------------------------\u001b[0m",
      "\u001b[0;31mKeyboardInterrupt\u001b[0m                         Traceback (most recent call last)",
      "Input \u001b[0;32mIn [3]\u001b[0m, in \u001b[0;36m<module>\u001b[0;34m\u001b[0m\n\u001b[0;32m----> 1\u001b[0m x, y, theta \u001b[38;5;241m=\u001b[39m \u001b[43msim\u001b[49m\u001b[38;5;241;43m.\u001b[39;49m\u001b[43msample_trial\u001b[49m\u001b[43m(\u001b[49m\u001b[38;5;241;43m100\u001b[39;49m\u001b[43m)\u001b[49m\n",
      "File \u001b[0;32m~/brinkman_lab/rnn_spatial/rnn_spatial/motion.py:116\u001b[0m, in \u001b[0;36mMotionSimulation.sample_trial\u001b[0;34m(self, n_pts)\u001b[0m\n\u001b[1;32m    113\u001b[0m \u001b[38;5;28;01mwhile\u001b[39;00m \u001b[38;5;28;01mTrue\u001b[39;00m:\n\u001b[1;32m    115\u001b[0m     theta[t] \u001b[38;5;241m=\u001b[39m \u001b[38;5;28mself\u001b[39m\u001b[38;5;241m.\u001b[39mget_next_direction(theta[t \u001b[38;5;241m-\u001b[39m \u001b[38;5;241m1\u001b[39m])\n\u001b[0;32m--> 116\u001b[0m     x[t \u001b[38;5;241m+\u001b[39m \u001b[38;5;241m1\u001b[39m], y[t \u001b[38;5;241m+\u001b[39m \u001b[38;5;241m1\u001b[39m] \u001b[38;5;241m=\u001b[39m \u001b[38;5;28;43mself\u001b[39;49m\u001b[38;5;241;43m.\u001b[39;49m\u001b[43mupdate_position\u001b[49m\u001b[43m(\u001b[49m\u001b[43mx\u001b[49m\u001b[43m[\u001b[49m\u001b[43mt\u001b[49m\u001b[43m]\u001b[49m\u001b[43m,\u001b[49m\u001b[43m \u001b[49m\u001b[43my\u001b[49m\u001b[43m[\u001b[49m\u001b[43mt\u001b[49m\u001b[43m]\u001b[49m\u001b[43m,\u001b[49m\u001b[43m \u001b[49m\u001b[43mtheta\u001b[49m\u001b[43m[\u001b[49m\u001b[43mt\u001b[49m\u001b[43m]\u001b[49m\u001b[43m)\u001b[49m\n\u001b[1;32m    118\u001b[0m     \u001b[38;5;28;01mif\u001b[39;00m \u001b[38;5;28mself\u001b[39m\u001b[38;5;241m.\u001b[39mboundary\u001b[38;5;241m.\u001b[39mcontains(x[t \u001b[38;5;241m+\u001b[39m \u001b[38;5;241m1\u001b[39m], y[t \u001b[38;5;241m+\u001b[39m \u001b[38;5;241m1\u001b[39m]):\n\u001b[1;32m    119\u001b[0m         \u001b[38;5;28;01mbreak\u001b[39;00m\n",
      "File \u001b[0;32m~/brinkman_lab/rnn_spatial/rnn_spatial/motion.py:92\u001b[0m, in \u001b[0;36mMotionSimulation.update_position\u001b[0;34m(self, x, y, theta)\u001b[0m\n\u001b[1;32m     89\u001b[0m \u001b[38;5;28;01mdef\u001b[39;00m \u001b[38;5;21mupdate_position\u001b[39m(\u001b[38;5;28mself\u001b[39m, x, y, theta):\n\u001b[1;32m     91\u001b[0m     x_next \u001b[38;5;241m=\u001b[39m x \u001b[38;5;241m+\u001b[39m \u001b[38;5;28mself\u001b[39m\u001b[38;5;241m.\u001b[39mspeed \u001b[38;5;241m*\u001b[39m \u001b[38;5;28mself\u001b[39m\u001b[38;5;241m.\u001b[39mtime_step \u001b[38;5;241m*\u001b[39m np\u001b[38;5;241m.\u001b[39mcos(theta)\n\u001b[0;32m---> 92\u001b[0m     y_next \u001b[38;5;241m=\u001b[39m y \u001b[38;5;241m+\u001b[39m \u001b[38;5;28mself\u001b[39m\u001b[38;5;241m.\u001b[39mspeed \u001b[38;5;241m*\u001b[39m \u001b[38;5;28mself\u001b[39m\u001b[38;5;241m.\u001b[39mtime_step \u001b[38;5;241m*\u001b[39m \u001b[43mnp\u001b[49m\u001b[38;5;241;43m.\u001b[39;49m\u001b[43msin\u001b[49m\u001b[43m(\u001b[49m\u001b[43mtheta\u001b[49m\u001b[43m)\u001b[49m\n\u001b[1;32m     94\u001b[0m     \u001b[38;5;28;01mreturn\u001b[39;00m x_next, y_next\n",
      "\u001b[0;31mKeyboardInterrupt\u001b[0m: "
     ]
    }
   ],
   "source": [
    "x, y, theta = sim.sample_trial(100)"
   ]
  },
  {
   "cell_type": "code",
   "execution_count": null,
   "id": "b9969cd3-1a40-4202-8d18-d53c09a2c735",
   "metadata": {},
   "outputs": [],
   "source": [
    "sim.plot_position(x, y)"
   ]
  },
  {
   "cell_type": "code",
   "execution_count": null,
   "id": "a3e2c1bc-874e-4217-916b-dfd5faa35196",
   "metadata": {},
   "outputs": [],
   "source": []
  }
 ],
 "metadata": {
  "kernelspec": {
   "display_name": "Python 3 (ipykernel)",
   "language": "python",
   "name": "python3"
  },
  "language_info": {
   "codemirror_mode": {
    "name": "ipython",
    "version": 3
   },
   "file_extension": ".py",
   "mimetype": "text/x-python",
   "name": "python",
   "nbconvert_exporter": "python",
   "pygments_lexer": "ipython3",
   "version": "3.10.0"
  }
 },
 "nbformat": 4,
 "nbformat_minor": 5
}
