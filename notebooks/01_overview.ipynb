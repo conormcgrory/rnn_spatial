{
 "cells": [
  {
   "cell_type": "markdown",
   "metadata": {},
   "source": [
    "# Modeling spatial navigation circuits with RNNs\n",
    "\n",
    "_Author_: Conor McGrory (conor.mcgrory@stonybrook.edu), rotation student"
   ]
  },
  {
   "cell_type": "markdown",
   "metadata": {},
   "source": [
    "## Overview\n",
    "\n",
    "This repository contains the code and notes from my rotation project in the Brinkman Lab from January to May 2022. The goal of this project was to attempt to replicate the results from multiple recent papers showing that RNNs trained to solve simple spatial navigation tasks can develop activity patterns similar to those of entorhinal cortex cells such as grid cells, border cells, and speed cells. While we were able to train RNN models to solve path integration tasks reasonably well, we did **not** observe any grid-like activity in the hidden units."
   ]
  },
  {
   "cell_type": "markdown",
   "metadata": {},
   "source": [
    "## Background\n",
    "\n",
    "**TODO: Add this!**"
   ]
  },
  {
   "cell_type": "markdown",
   "metadata": {},
   "source": [
    "## Project structure\n",
    "\n",
    "The code for this project consists of notebooks (`rnn_spatial/notebooks`), scripts (`rnn_spatial/scripts`) and source code (`rnn_spatial/spatialnet`). \n",
    "\n",
    "### Notebooks\n",
    "\n",
    "The notebooks in this folder are meant to be read in order. They contain the code for analyzing the performance and tuning of the RNN models that we train, and also explain our main results. The notebooks in this directory are:\n",
    "\n",
    "- [01_overview.ipynb](./01_overview.ipynb): The notebook you are currently reading. Contains a broad overview of the project and explains its results.\n",
    "\n",
    "### Scripts\n",
    "\n",
    "The scripts in the `scripts/` directory can be run to train RNN models on the path integration task. The main script used for this project is `scripts/train_model.py`. This is a general-purpose script that trains a network using the parameters specified in its command-line arguments. For example, running:\n",
    "```console\n",
    "> python scripts/train_model.py -o target_dir\n",
    "```\n",
    "will train an RNN using the default parameters (these are specified in `spatialnet/parameters.py`) and store the results in `target_dir`. Running\n",
    "```console\n",
    "> python scripts/train_model.py -o target_dir --traj-mean-speed 0.3\n",
    "```\n",
    "will train an RNN using default parameters, execpt for the mean speed of the simulated trajectories (the `traj_mean_speed` parameter), which will be set to 0.3. These command-line options can be used to override as many of the default parameters as you want. To see all of the possible options, along with their default values, you can run\n",
    "```console\n",
    "> python scripts/train_model.py --help\n",
    "```\n",
    "\n",
    "### Source code\n",
    "\n",
    "The source code for this project is stored in the `spatialnet/` directory, and packaged as a locally editable Python package called `spatialnet`. Information for how to install this correctly can be found in `README.md`. "
   ]
  }
 ],
 "metadata": {
  "interpreter": {
   "hash": "5469451a7668bc176f43f4c591685b099e36316da00984df6385c7ba655407c5"
  },
  "kernelspec": {
   "display_name": "Python 3.9.7 ('spatial-rnn')",
   "language": "python",
   "name": "python3"
  },
  "language_info": {
   "name": "python",
   "version": "3.9.7"
  },
  "orig_nbformat": 4
 },
 "nbformat": 4,
 "nbformat_minor": 2
}
