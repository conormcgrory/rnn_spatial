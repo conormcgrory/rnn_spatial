{
 "cells": [
  {
   "cell_type": "markdown",
   "metadata": {},
   "source": [
    "# Inspect model performance on test data"
   ]
  },
  {
   "cell_type": "code",
   "execution_count": 1,
   "metadata": {},
   "outputs": [],
   "source": [
    "import numpy as np\n",
    "import matplotlib.pyplot as plt\n",
    "\n",
    "from spatialnet import trajectory\n",
    "from spatialnet.fileio import load_run, load_params, load_checkpoint\n",
    "from spatialnet.parameters import print_params"
   ]
  },
  {
   "cell_type": "code",
   "execution_count": 2,
   "metadata": {},
   "outputs": [],
   "source": [
    "# Directory where model is loaded from\n",
    "RUN_DIRNAME = '20220524_01'\n",
    "RUN_DIRPATH = f'models/{RUN_DIRNAME}'\n",
    "\n",
    "# Number of trajectories to sample\n",
    "N_TRIALS = 500"
   ]
  },
  {
   "cell_type": "markdown",
   "metadata": {},
   "source": [
    "## Load model"
   ]
  },
  {
   "cell_type": "code",
   "execution_count": 3,
   "metadata": {},
   "outputs": [
    {
     "name": "stdout",
     "output_type": "stream",
     "text": [
      "model:\n",
      "  n_units: 100\n",
      "  output_bias: false\n",
      "  rnn_bias: true\n",
      "num_batches: 1000\n",
      "num_epochs: 8\n",
      "test_batch_size: 500\n",
      "trainer:\n",
      "  batch_size: 500\n",
      "  lambda_h: 10.0\n",
      "  lambda_w: 10.0\n",
      "  learning_rate: 0.0001\n",
      "trajectory:\n",
      "  boundary_height: 2.0\n",
      "  boundary_shape: square\n",
      "  coordinates: cartesian\n",
      "  mean_speed: 0.2\n",
      "  n_steps: 450\n",
      "  rng_seed: 999\n",
      "  std_norm: 0.5\n",
      "  time_step: 0.1\n",
      "\n"
     ]
    }
   ],
   "source": [
    "run_params, model = load_run(RUN_DIRPATH)\n",
    "print_params(run_params)"
   ]
  },
  {
   "cell_type": "markdown",
   "metadata": {},
   "source": [
    "## Simulate trajectories"
   ]
  },
  {
   "cell_type": "code",
   "execution_count": 4,
   "metadata": {},
   "outputs": [],
   "source": [
    "# Use trajectory generator with different random seed for test data\n",
    "new_seed = run_params['trajectory']['rng_seed'] + 1\n",
    "traj_params = dict(run_params['trajectory'], rng_seed=new_seed)\n",
    "\n",
    "# Sample batch\n",
    "tgen = trajectory.TrajectoryGenerator(**traj_params)\n",
    "vel, pos = tgen.smp_batch(N_TRIALS)"
   ]
  },
  {
   "cell_type": "markdown",
   "metadata": {},
   "source": [
    "## Run model on all trials"
   ]
  },
  {
   "cell_type": "code",
   "execution_count": 5,
   "id": "e6410022",
   "metadata": {},
   "outputs": [],
   "source": [
    "pos_est, u_vals = model.run_np(vel)"
   ]
  },
  {
   "cell_type": "markdown",
   "metadata": {},
   "source": [
    "## Plot results"
   ]
  },
  {
   "cell_type": "code",
   "execution_count": 6,
   "metadata": {},
   "outputs": [],
   "source": [
    "b_shape = run_params['trajectory']['boundary_shape']\n",
    "b_height = run_params['trajectory']['boundary_height']\n",
    "boundary = trajectory.get_boundary(b_shape, b_height)"
   ]
  },
  {
   "cell_type": "code",
   "execution_count": 7,
   "id": "555425c6",
   "metadata": {},
   "outputs": [
    {
     "data": {
      "image/png": "[encoded data removed]",
      "text/plain": [
       "<Figure size 432x288 with 1 Axes>"
      ]
     },
     "metadata": {
      "needs_background": "light"
     },
     "output_type": "display_data"
    }
   ],
   "source": [
    "trial_plt = 25\n",
    "t_start = 0\n",
    "t_stop = 450\n",
    "\n",
    "pos_plt = pos[trial_plt][t_start:t_stop]\n",
    "pos_est_plt = pos_est[trial_plt][t_start:t_stop]\n",
    "\n",
    "fig, ax = plt.subplots(1, 1)\n",
    "ax.set_aspect('equal')\n",
    "ax.set_title(f'Trial: {trial_plt}')\n",
    "trajectory.plot_position_estimate(boundary, pos_plt, pos_est_plt, ax)\n",
    "\n",
    "plt.savefig(f'{RUN_DIRNAME}_performance_{trial_plt}.png')"
   ]
  },
  {
   "cell_type": "markdown",
   "metadata": {},
   "source": [
    "## Model weights"
   ]
  },
  {
   "cell_type": "code",
   "execution_count": 8,
   "metadata": {},
   "outputs": [
    {
     "data": {
      "text/plain": [
       "Parameter containing:\n",
       "tensor([[-2.1527e-01, -2.1345e-01,  4.1507e-01, -2.8862e-01,  3.1747e-01,\n",
       "          2.5339e-01, -2.8925e-01,  3.0845e-01,  2.8778e-02, -2.9413e-01,\n",
       "          2.5539e-01, -1.5196e-01,  2.7921e-01, -3.7044e-01,  4.1582e-01,\n",
       "         -2.7897e-01, -2.9782e-01, -3.5783e-01, -1.7603e-01, -3.6305e-01,\n",
       "         -3.0762e-01,  3.7170e-01, -2.6376e-01, -2.3663e-01, -3.5891e-01,\n",
       "         -2.4808e-01,  2.5615e-01, -3.6110e-01,  3.7710e-01, -2.7961e-01,\n",
       "         -2.4162e-01, -2.1332e-01,  2.9006e-01, -1.6043e-01,  3.6854e-01,\n",
       "         -3.3437e-01, -2.5483e-01, -3.4143e-01, -2.0343e-01, -3.2499e-01,\n",
       "          2.9459e-01,  2.4923e-01,  4.1090e-01, -3.0529e-01,  3.5763e-01,\n",
       "         -4.9487e-01, -1.7528e-01, -2.1269e-01,  1.3963e-01,  3.0559e-01,\n",
       "          2.7053e-01,  3.5678e-01, -2.5031e-01, -2.7129e-01, -2.3814e-01,\n",
       "         -3.2871e-01, -3.4577e-01,  3.4048e-01,  6.9388e-02, -1.0215e-01,\n",
       "          2.6234e-01,  2.8246e-01, -3.9890e-01,  5.8997e-02,  2.6736e-01,\n",
       "          3.8075e-01,  3.6370e-01,  3.0357e-01, -4.0416e-01,  1.7238e-01,\n",
       "          2.9751e-01, -3.2531e-01, -3.7907e-01,  3.3552e-01, -2.4472e-01,\n",
       "          3.7732e-01,  3.3788e-01,  3.5334e-01, -4.8784e-01,  2.3219e-01,\n",
       "         -4.6475e-01, -3.1345e-01,  2.8570e-02,  1.7518e-01, -3.3944e-01,\n",
       "         -1.7713e-01,  2.0062e-01,  3.1619e-01, -2.2970e-01, -3.6234e-01,\n",
       "          2.9321e-01,  3.6504e-01, -3.3673e-01, -1.5225e-03, -2.2970e-01,\n",
       "         -2.3892e-01, -3.2853e-01,  2.6759e-01,  3.3739e-01, -2.1098e-01],\n",
       "        [ 3.5826e-01, -1.9934e-01,  1.7781e-01, -1.4843e-01,  1.8306e-02,\n",
       "          3.3411e-01,  1.3015e-01, -2.0869e-01,  2.7201e-01,  2.8592e-01,\n",
       "          3.1254e-01,  3.5806e-01, -3.2765e-01,  3.4251e-01,  1.8702e-01,\n",
       "         -3.6236e-01,  1.2091e-01, -1.5635e-01, -1.7379e-01, -3.5558e-01,\n",
       "          3.1446e-01, -1.3228e-01,  3.6771e-01,  3.2821e-01, -1.0301e-01,\n",
       "         -3.2932e-01, -2.9581e-01, -3.4158e-01, -3.5866e-01, -1.8235e-01,\n",
       "          3.2325e-01,  2.6718e-01, -2.8339e-01, -3.7120e-01,  1.7134e-01,\n",
       "         -1.3502e-01,  3.5288e-01,  3.3415e-01, -3.1496e-01, -2.9058e-01,\n",
       "         -3.5696e-01,  2.6245e-01,  1.0253e-01,  3.3826e-01,  2.1247e-01,\n",
       "         -3.7155e-01, -3.0352e-01, -3.5077e-01, -3.2640e-01, -3.4951e-01,\n",
       "          3.2234e-01,  2.7103e-01, -3.2139e-01,  3.4271e-01,  3.1671e-01,\n",
       "          4.0434e-01,  3.0347e-01,  3.1446e-01,  2.8559e-01,  2.8415e-01,\n",
       "          1.2276e-01, -3.9011e-01,  2.2100e-02,  2.1346e-01, -3.4080e-01,\n",
       "          3.6898e-01,  3.3716e-01,  2.4804e-03, -3.7244e-01, -2.0397e-01,\n",
       "          2.8790e-01,  2.8811e-01,  3.2588e-01, -3.2893e-01, -3.8122e-01,\n",
       "         -4.5360e-01,  4.4902e-01, -1.5067e-01,  3.4430e-01,  1.0957e-01,\n",
       "         -3.9988e-01,  3.6528e-01,  1.4621e-01, -3.2706e-01, -2.1044e-01,\n",
       "         -2.9284e-01, -3.2193e-01,  3.4975e-01, -2.6889e-01, -1.0706e-01,\n",
       "          3.0840e-01, -2.4073e-04, -3.6577e-01,  3.5717e-01, -2.4114e-01,\n",
       "         -6.6213e-02,  2.7097e-01, -3.0523e-01, -3.5245e-01, -3.0634e-01]],\n",
       "       requires_grad=True)"
      ]
     },
     "execution_count": 8,
     "metadata": {},
     "output_type": "execute_result"
    }
   ],
   "source": [
    "model.output.weight"
   ]
  }
 ],
 "metadata": {
  "interpreter": {
   "hash": "5469451a7668bc176f43f4c591685b099e36316da00984df6385c7ba655407c5"
  },
  "kernelspec": {
   "display_name": "Python 3.9.7 ('spatial-rnn')",
   "language": "python",
   "name": "python3"
  },
  "language_info": {
   "codemirror_mode": {
    "name": "ipython",
    "version": 3
   },
   "file_extension": ".py",
   "mimetype": "text/x-python",
   "name": "python",
   "nbconvert_exporter": "python",
   "pygments_lexer": "ipython3",
   "version": "3.9.7"
  },
  "orig_nbformat": 4
 },
 "nbformat": 4,
 "nbformat_minor": 2
}
