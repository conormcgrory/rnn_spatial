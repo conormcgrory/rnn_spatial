{
 "cells": [
  {
   "cell_type": "markdown",
   "metadata": {},
   "source": [
    "# Test that simulated trajectories can be integrated correctly"
   ]
  },
  {
   "cell_type": "code",
   "execution_count": 1,
   "metadata": {},
   "outputs": [],
   "source": [
    "import numpy as np\n",
    "import matplotlib.pyplot as plt\n",
    "\n",
    "import motion\n"
   ]
  },
  {
   "cell_type": "markdown",
   "metadata": {},
   "source": [
    "## Parameters"
   ]
  },
  {
   "cell_type": "code",
   "execution_count": 2,
   "metadata": {},
   "outputs": [],
   "source": [
    "# Simulation parameters\n",
    "N_STEPS = 450\n",
    "BOUNDARY_TYPE = 'square'\n",
    "BOUNDARY_HEIGHT = 2.0\n",
    "TIME_STEP = 1.0\n",
    "STD_NORM = 0.33\n",
    "MAX_SPEED = 0.2\n",
    "P_MOVE = 0.1\n",
    "RNG_SEED = 999\n",
    "\n",
    "# Number of trials to run simulation for\n",
    "N_TRIALS = 100"
   ]
  },
  {
   "cell_type": "markdown",
   "metadata": {},
   "source": [
    "## Path integration functions"
   ]
  },
  {
   "cell_type": "code",
   "execution_count": 3,
   "metadata": {},
   "outputs": [],
   "source": [
    "def path_integrate_cartesian(vel, time_step):\n",
    "    return time_step * np.cumsum(vel, axis=1)\n",
    "\n",
    "def path_integrate_polar(vel, time_step):\n",
    "\n",
    "    dx = time_step * vel[:, :, 0] * np.cos(vel[:, :, 1])\n",
    "    dy = time_step * vel[:, :, 0] * np.sin(vel[:, :, 1])\n",
    "\n",
    "    pos_x = np.cumsum(dx, axis=1)\n",
    "    pos_y = np.cumsum(dy, axis=1)\n",
    "\n",
    "    return np.stack((pos_x, pos_y), axis=-1)\n"
   ]
  },
  {
   "cell_type": "markdown",
   "metadata": {},
   "source": [
    "## Test Cartesian trajectories"
   ]
  },
  {
   "cell_type": "code",
   "execution_count": 4,
   "metadata": {},
   "outputs": [],
   "source": [
    "sim_c = motion.MotionSimulationCartesian(\n",
    "    n_steps=N_STEPS,\n",
    "    boundary_type=BOUNDARY_TYPE,\n",
    "    boundary_height=BOUNDARY_HEIGHT,\n",
    "    time_step=TIME_STEP,\n",
    "    std_norm=STD_NORM,\n",
    "    max_speed=MAX_SPEED,\n",
    "    p_move=P_MOVE,\n",
    "    rng_seed=RNG_SEED\n",
    ")\n",
    "vel_c, pos_c = sim_c.smp_batch(N_TRIALS)"
   ]
  },
  {
   "cell_type": "code",
   "execution_count": 5,
   "metadata": {},
   "outputs": [
    {
     "data": {
      "text/plain": [
       "True"
      ]
     },
     "execution_count": 5,
     "metadata": {},
     "output_type": "execute_result"
    }
   ],
   "source": [
    "pos_est_c = path_integrate_cartesian(vel_c, TIME_STEP)\n",
    "np.allclose(pos_c, pos_est_c, atol=1e-12)"
   ]
  },
  {
   "cell_type": "markdown",
   "metadata": {},
   "source": [
    "## Test polar trajectories"
   ]
  },
  {
   "cell_type": "code",
   "execution_count": 6,
   "metadata": {},
   "outputs": [],
   "source": [
    "sim_p = motion.MotionSimulation(\n",
    "    n_steps=N_STEPS,\n",
    "    boundary_type=BOUNDARY_TYPE,\n",
    "    boundary_height=BOUNDARY_HEIGHT,\n",
    "    time_step=TIME_STEP,\n",
    "    std_norm=STD_NORM,\n",
    "    max_speed=MAX_SPEED,\n",
    "    p_move=P_MOVE,\n",
    "    rng_seed=RNG_SEED\n",
    ")\n",
    "vel_p, pos_p = sim_p.smp_batch(N_TRIALS)"
   ]
  },
  {
   "cell_type": "code",
   "execution_count": 7,
   "metadata": {},
   "outputs": [
    {
     "data": {
      "text/plain": [
       "True"
      ]
     },
     "execution_count": 7,
     "metadata": {},
     "output_type": "execute_result"
    }
   ],
   "source": [
    "pos_est_p = path_integrate_polar(vel_p, TIME_STEP)\n",
    "np.allclose(pos_p, pos_est_p, atol=1e-12)"
   ]
  }
 ],
 "metadata": {
  "interpreter": {
   "hash": "5469451a7668bc176f43f4c591685b099e36316da00984df6385c7ba655407c5"
  },
  "kernelspec": {
   "display_name": "Python 3.9.7 ('spatial-rnn')",
   "language": "python",
   "name": "python3"
  },
  "language_info": {
   "codemirror_mode": {
    "name": "ipython",
    "version": 3
   },
   "file_extension": ".py",
   "mimetype": "text/x-python",
   "name": "python",
   "nbconvert_exporter": "python",
   "pygments_lexer": "ipython3",
   "version": "3.9.7"
  },
  "orig_nbformat": 4
 },
 "nbformat": 4,
 "nbformat_minor": 2
}
