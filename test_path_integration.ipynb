{
 "cells": [
  {
   "cell_type": "markdown",
   "metadata": {},
   "source": [
    "# Test that simulated trajectories can be integrated correctly"
   ]
  },
  {
   "cell_type": "code",
   "execution_count": 1,
   "metadata": {},
   "outputs": [],
   "source": [
    "import numpy as np\n",
    "import matplotlib.pyplot as plt\n",
    "\n",
    "import trajectory\n",
    "from parameters import get_default_params"
   ]
  },
  {
   "cell_type": "markdown",
   "metadata": {},
   "source": [
    "## Path integration functions"
   ]
  },
  {
   "cell_type": "code",
   "execution_count": 2,
   "metadata": {},
   "outputs": [],
   "source": [
    "def path_integrate_cartesian(vel, time_step):\n",
    "    \"\"\"Integrate Cartesian velocity to determine position at at each time step.\"\"\"\n",
    "\n",
    "    return time_step * np.cumsum(vel, axis=1)\n",
    "\n",
    "def path_integrate_polar(vel, time_step):\n",
    "    \"\"\"Integrate polar velocity to determine position at at each time step.\"\"\"\n",
    "\n",
    "    dx = time_step * vel[:, :, 0] * np.cos(vel[:, :, 1])\n",
    "    dy = time_step * vel[:, :, 0] * np.sin(vel[:, :, 1])\n",
    "\n",
    "    pos_x = np.cumsum(dx, axis=1)\n",
    "    pos_y = np.cumsum(dy, axis=1)\n",
    "\n",
    "    return np.stack((pos_x, pos_y), axis=-1)"
   ]
  },
  {
   "cell_type": "markdown",
   "metadata": {},
   "source": [
    "## Test Cartesian trajectories"
   ]
  },
  {
   "cell_type": "code",
   "execution_count": 3,
   "metadata": {},
   "outputs": [],
   "source": [
    "# Trajectory generator\n",
    "params_c = dict(get_default_params()['trajectory'], coordinates='cartesian')\n",
    "tgen_c = trajectory.TrajectoryGenerator(**params_c)\n",
    "\n",
    "# Sample trajectories\n",
    "vel_c, pos_c = tgen_c.smp_batch(100)"
   ]
  },
  {
   "cell_type": "code",
   "execution_count": 4,
   "metadata": {},
   "outputs": [
    {
     "data": {
      "text/plain": [
       "True"
      ]
     },
     "execution_count": 4,
     "metadata": {},
     "output_type": "execute_result"
    }
   ],
   "source": [
    "pos_est_c = path_integrate_cartesian(vel_c, params_c['time_step'])\n",
    "np.allclose(pos_c, pos_est_c, atol=1e-12)"
   ]
  },
  {
   "cell_type": "markdown",
   "metadata": {},
   "source": [
    "## Test polar trajectories"
   ]
  },
  {
   "cell_type": "code",
   "execution_count": 5,
   "metadata": {},
   "outputs": [],
   "source": [
    "# Trajectory generator\n",
    "params_p = dict(get_default_params()['trajectory'], coordinates='polar')\n",
    "tgen_p = trajectory.TrajectoryGenerator(**params_p)\n",
    "\n",
    "# Sample trajectories\n",
    "vel_p, pos_p = tgen_p.smp_batch(100)"
   ]
  },
  {
   "cell_type": "code",
   "execution_count": 6,
   "metadata": {},
   "outputs": [
    {
     "data": {
      "text/plain": [
       "True"
      ]
     },
     "execution_count": 6,
     "metadata": {},
     "output_type": "execute_result"
    }
   ],
   "source": [
    "pos_est_p = path_integrate_polar(vel_p, params_p['time_step'])\n",
    "np.allclose(pos_p, pos_est_p, atol=1e-12)"
   ]
  }
 ],
 "metadata": {
  "interpreter": {
   "hash": "5469451a7668bc176f43f4c591685b099e36316da00984df6385c7ba655407c5"
  },
  "kernelspec": {
   "display_name": "Python 3.9.7 ('spatial-rnn')",
   "language": "python",
   "name": "python3"
  },
  "language_info": {
   "codemirror_mode": {
    "name": "ipython",
    "version": 3
   },
   "file_extension": ".py",
   "mimetype": "text/x-python",
   "name": "python",
   "nbconvert_exporter": "python",
   "pygments_lexer": "ipython3",
   "version": "3.9.7"
  },
  "orig_nbformat": 4
 },
 "nbformat": 4,
 "nbformat_minor": 2
}
