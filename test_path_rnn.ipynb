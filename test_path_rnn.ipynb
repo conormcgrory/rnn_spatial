{
 "cells": [
  {
   "cell_type": "markdown",
   "id": "eb006d5a-93d2-4112-b4cb-50446e9caf17",
   "metadata": {
    "tags": []
   },
   "source": [
    "# Test path integrator RNN"
   ]
  },
  {
   "cell_type": "code",
   "execution_count": 1,
   "id": "6b6236e0-5cb4-4c35-8d60-67fe42083a8f",
   "metadata": {},
   "outputs": [],
   "source": [
    "import numpy as np\n",
    "import torch\n",
    "\n",
    "from motion import load_batch"
   ]
  },
  {
   "cell_type": "code",
   "execution_count": 2,
   "id": "43fa6598",
   "metadata": {},
   "outputs": [],
   "source": [
    "class PathRNN(torch.nn.Module):\n",
    "    \n",
    "    def __init__(self, n_units):\n",
    "\n",
    "        super(PathRNN, self).__init__()\n",
    "\n",
    "        self.n_units = n_units\n",
    "\n",
    "        # RNN Layer\n",
    "        self.rnn = torch.nn.RNN(input_size=2, hidden_size=n_units, num_layers=1, nonlinearity='tanh', batch_first=True)\n",
    "\n",
    "        # Output layer\n",
    "        self.output = torch.nn.Linear(n_units, 2)\n",
    "    \n",
    "    def forward(self, vel):\n",
    "        \n",
    "        # Run RNN on velocity sequences to get hidden unit values\n",
    "        u_vals, _ = self.rnn(vel)\n",
    "        \n",
    "        # Apply output weights to get estimated position\n",
    "        pos_est = self.output(u_vals)\n",
    "        \n",
    "        return pos_est, u_vals"
   ]
  },
  {
   "cell_type": "code",
   "execution_count": 3,
   "id": "c0860660",
   "metadata": {},
   "outputs": [],
   "source": [
    "# Load position and velocity data from file\n",
    "pos_arr, vel_arr = load_batch('data/test_batch.npz')\n",
    "\n",
    "# Move data into PyTorch tensors\n",
    "pos = torch.from_numpy(pos_arr).float()\n",
    "vel = torch.from_numpy(vel_arr).float()"
   ]
  },
  {
   "cell_type": "code",
   "execution_count": 4,
   "id": "e3946ad7",
   "metadata": {},
   "outputs": [],
   "source": [
    "# Instantiate model\n",
    "model = PathRNN(n_units=100)\n",
    "\n",
    "# We'll also set the model to the device that we defined earlier (default is CPU)\n",
    "#model = model.to(device)\n",
    "\n",
    "# Define hyperparameters\n",
    "n_epochs = 100\n",
    "lr=0.01\n",
    "\n",
    "# Define Loss, Optimizer\n",
    "criterion = torch.nn.MSELoss()\n",
    "optimizer = torch.optim.Adam(model.parameters(), lr=lr)"
   ]
  },
  {
   "cell_type": "code",
   "execution_count": 5,
   "id": "00dfb4ed",
   "metadata": {},
   "outputs": [
    {
     "name": "stdout",
     "output_type": "stream",
     "text": [
      "Epoch: 10/100............. Loss: 0.3377\n",
      "Epoch: 20/100............. Loss: 0.3992\n",
      "Epoch: 30/100............. Loss: 0.3337\n",
      "Epoch: 40/100............. Loss: 0.3338\n",
      "Epoch: 50/100............. Loss: 0.3317\n",
      "Epoch: 60/100............. Loss: 0.3296\n",
      "Epoch: 70/100............. Loss: 0.3299\n",
      "Epoch: 80/100............. Loss: 0.3324\n",
      "Epoch: 90/100............. Loss: 0.3299\n",
      "Epoch: 100/100............. Loss: 0.3307\n"
     ]
    }
   ],
   "source": [
    "# Training Run\n",
    "for epoch in range(1, n_epochs + 1):\n",
    "\n",
    "    # Clear gradients from previous epoch\n",
    "    optimizer.zero_grad()\n",
    "\n",
    "    # Compute loss\n",
    "    pos_est, u_vals = model(vel)\n",
    "    loss = criterion(pos_est, pos)\n",
    "\n",
    "    # Compute gradient via backprop\n",
    "    loss.backward()\n",
    "\n",
    "    # Update model parameters\n",
    "    optimizer.step()\n",
    "    \n",
    "    if epoch % 10 == 0:\n",
    "        print('Epoch: {}/{}.............'.format(epoch, n_epochs), end=' ')\n",
    "        print(\"Loss: {:.4f}\".format(loss.item()))"
   ]
  }
 ],
 "metadata": {
  "kernelspec": {
   "display_name": "Python 3 (ipykernel)",
   "language": "python",
   "name": "python3"
  },
  "language_info": {
   "codemirror_mode": {
    "name": "ipython",
    "version": 3
   },
   "file_extension": ".py",
   "mimetype": "text/x-python",
   "name": "python",
   "nbconvert_exporter": "python",
   "pygments_lexer": "ipython3",
   "version": "3.9.7"
  }
 },
 "nbformat": 4,
 "nbformat_minor": 5
}
