{
 "cells": [
  {
   "cell_type": "markdown",
   "id": "eb006d5a-93d2-4112-b4cb-50446e9caf17",
   "metadata": {
    "tags": []
   },
   "source": [
    "# Test path integrator RNN"
   ]
  },
  {
   "cell_type": "code",
   "execution_count": 1,
   "id": "6b6236e0-5cb4-4c35-8d60-67fe42083a8f",
   "metadata": {},
   "outputs": [],
   "source": [
    "import numpy as np\n",
    "import matplotlib.pyplot as plt\n",
    "import torch\n",
    "\n",
    "import motion"
   ]
  },
  {
   "cell_type": "markdown",
   "id": "4aaf5fb6",
   "metadata": {},
   "source": [
    "## Define RNN model"
   ]
  },
  {
   "cell_type": "code",
   "execution_count": 2,
   "id": "43fa6598",
   "metadata": {},
   "outputs": [],
   "source": [
    "class PathRNN(torch.nn.Module):\n",
    "    \n",
    "    def __init__(self, n_units):\n",
    "\n",
    "        super(PathRNN, self).__init__()\n",
    "\n",
    "        self.n_units = n_units\n",
    "\n",
    "        # RNN Layer\n",
    "        self.rnn = torch.nn.RNN(input_size=2, hidden_size=n_units, num_layers=1, nonlinearity='tanh', batch_first=True)\n",
    "\n",
    "        # Output layer\n",
    "        self.output = torch.nn.Linear(n_units, 2)\n",
    "    \n",
    "    def forward(self, vel):\n",
    "        \n",
    "        # Run RNN on velocity sequences to get hidden unit values\n",
    "        u_vals, _ = self.rnn(vel)\n",
    "        \n",
    "        # Apply output weights to get estimated position\n",
    "        pos_est = self.output(u_vals)\n",
    "        \n",
    "        return pos_est, u_vals"
   ]
  },
  {
   "cell_type": "markdown",
   "id": "8672ccaf",
   "metadata": {},
   "source": [
    "## Generate simulated trajectories"
   ]
  },
  {
   "cell_type": "code",
   "execution_count": 3,
   "id": "0816a928",
   "metadata": {},
   "outputs": [],
   "source": [
    "sim = motion.MotionSimulation(500, 20)\n",
    "sim.run()"
   ]
  },
  {
   "cell_type": "code",
   "execution_count": 4,
   "id": "20b773b4",
   "metadata": {},
   "outputs": [
    {
     "data": {
      "image/png": "[encoded data removed]",
      "text/plain": [
       "<Figure size 432x288 with 1 Axes>"
      ]
     },
     "metadata": {
      "needs_background": "light"
     },
     "output_type": "display_data"
    }
   ],
   "source": [
    "trial_plt = 5\n",
    "\n",
    "fig, ax = plt.subplots(1, 1)\n",
    "sim.plot_position(5)\n",
    "ax.set_title(f'Trial: {trial_plt}');"
   ]
  },
  {
   "cell_type": "markdown",
   "id": "7b980068",
   "metadata": {},
   "source": [
    "## Train RNN on trajectory data"
   ]
  },
  {
   "cell_type": "code",
   "execution_count": 5,
   "id": "e3946ad7",
   "metadata": {},
   "outputs": [],
   "source": [
    "# Move data into PyTorch tensors\n",
    "vel = torch.from_numpy(sim.vel).float()\n",
    "pos = torch.from_numpy(sim.pos).float()\n",
    "\n",
    "# Instantiate model\n",
    "model = PathRNN(n_units=100)\n",
    "\n",
    "# Define hyperparameters\n",
    "n_epochs = 100\n",
    "lr=0.01\n",
    "\n",
    "# Define Loss, Optimizer\n",
    "criterion = torch.nn.MSELoss()\n",
    "optimizer = torch.optim.Adam(model.parameters(), lr=lr)"
   ]
  },
  {
   "cell_type": "code",
   "execution_count": 6,
   "id": "00dfb4ed",
   "metadata": {},
   "outputs": [
    {
     "name": "stdout",
     "output_type": "stream",
     "text": [
      "Epoch: 10/100............. Loss: 0.3398\n",
      "Epoch: 20/100............. Loss: 0.3544\n",
      "Epoch: 30/100............. Loss: 0.3709\n",
      "Epoch: 40/100............. Loss: 0.3524\n",
      "Epoch: 50/100............. Loss: 0.3502\n",
      "Epoch: 60/100............. Loss: 0.3402\n",
      "Epoch: 70/100............. Loss: 0.3397\n",
      "Epoch: 80/100............. Loss: 0.3392\n",
      "Epoch: 90/100............. Loss: 0.3387\n",
      "Epoch: 100/100............. Loss: 0.3385\n"
     ]
    }
   ],
   "source": [
    "# Training Run\n",
    "for epoch in range(1, n_epochs + 1):\n",
    "\n",
    "    # Clear gradients from previous epoch\n",
    "    optimizer.zero_grad()\n",
    "\n",
    "    # Compute loss\n",
    "    pos_est, u_vals = model(vel)\n",
    "    loss = criterion(pos_est, pos)\n",
    "\n",
    "    # Compute gradient via backprop\n",
    "    loss.backward()\n",
    "\n",
    "    # Update model parameters\n",
    "    optimizer.step()\n",
    "    \n",
    "    if epoch % 10 == 0:\n",
    "        print('Epoch: {}/{}.............'.format(epoch, n_epochs), end=' ')\n",
    "        print(\"Loss: {:.4f}\".format(loss.item()))"
   ]
  },
  {
   "cell_type": "markdown",
   "id": "b471ab59",
   "metadata": {},
   "source": [
    "## TODO: Compare predicted motion to ground truth"
   ]
  }
 ],
 "metadata": {
  "kernelspec": {
   "display_name": "Python 3 (ipykernel)",
   "language": "python",
   "name": "python3"
  },
  "language_info": {
   "codemirror_mode": {
    "name": "ipython",
    "version": 3
   },
   "file_extension": ".py",
   "mimetype": "text/x-python",
   "name": "python",
   "nbconvert_exporter": "python",
   "pygments_lexer": "ipython3",
   "version": "3.9.7"
  }
 },
 "nbformat": 4,
 "nbformat_minor": 5
}
