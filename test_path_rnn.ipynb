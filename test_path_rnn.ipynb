{
 "cells": [
  {
   "cell_type": "markdown",
   "id": "eb006d5a-93d2-4112-b4cb-50446e9caf17",
   "metadata": {
    "tags": []
   },
   "source": [
    "# Test path integrator RNN"
   ]
  },
  {
   "cell_type": "code",
   "execution_count": 1,
   "id": "6b6236e0-5cb4-4c35-8d60-67fe42083a8f",
   "metadata": {},
   "outputs": [],
   "source": [
    "import numpy as np\n",
    "import matplotlib.pyplot as plt\n",
    "import torch\n",
    "from torch.utils.data import Dataset, DataLoader\n",
    "\n",
    "import motion"
   ]
  },
  {
   "cell_type": "markdown",
   "id": "4aaf5fb6",
   "metadata": {},
   "source": [
    "## Define dataset and RNN model"
   ]
  },
  {
   "cell_type": "code",
   "execution_count": 2,
   "id": "b61edab6",
   "metadata": {},
   "outputs": [],
   "source": [
    "class MotionDataset(Dataset):\n",
    "\n",
    "    def __init__(self, fpath):\n",
    "\n",
    "        # Load data from .npz file\n",
    "        with np.load(fpath) as data:\n",
    "            self._vel = torch.Tensor(data['vel'])\n",
    "            self._pos = torch.Tensor(data['pos'])\n",
    "            self._num_trials = data['vel'].shape[0]\n",
    "\n",
    "    def __getitem__(self, index):\n",
    "        return self._vel[index], self._pos[index]\n",
    " \n",
    "    def __len__(self):\n",
    "        return self._num_trials"
   ]
  },
  {
   "cell_type": "code",
   "execution_count": 3,
   "id": "43fa6598",
   "metadata": {},
   "outputs": [],
   "source": [
    "class PathRNN(torch.nn.Module):\n",
    "    \n",
    "    def __init__(self, n_units):\n",
    "\n",
    "        super(PathRNN, self).__init__()\n",
    "\n",
    "        self.n_units = n_units\n",
    "\n",
    "        # RNN Layer\n",
    "        self.rnn = torch.nn.RNN(input_size=2, hidden_size=n_units, num_layers=1, nonlinearity='tanh', batch_first=True)\n",
    "\n",
    "        # Output layer\n",
    "        self.output = torch.nn.Linear(n_units, 2)\n",
    "    \n",
    "    def forward(self, vel):\n",
    "        \n",
    "        # Run RNN on velocity sequences to get hidden unit values\n",
    "        u_vals, _ = self.rnn(vel)\n",
    "        \n",
    "        # Apply output weights to get estimated position\n",
    "        pos_est = self.output(u_vals)\n",
    "        \n",
    "        return pos_est, u_vals"
   ]
  },
  {
   "cell_type": "markdown",
   "id": "8672ccaf",
   "metadata": {},
   "source": [
    "## Generate simulated trajectories"
   ]
  },
  {
   "cell_type": "code",
   "execution_count": 4,
   "id": "0816a928",
   "metadata": {},
   "outputs": [],
   "source": [
    "sim = motion.MotionSimulation(500, 1000)\n",
    "sim.run()"
   ]
  },
  {
   "cell_type": "code",
   "execution_count": 5,
   "id": "20b773b4",
   "metadata": {},
   "outputs": [
    {
     "data": {
      "image/png": "[encoded data removed]",
      "text/plain": [
       "<Figure size 432x288 with 1 Axes>"
      ]
     },
     "metadata": {
      "needs_background": "light"
     },
     "output_type": "display_data"
    }
   ],
   "source": [
    "trial_plt = 5\n",
    "\n",
    "fig, ax = plt.subplots(1, 1)\n",
    "sim.plot_position(5)\n",
    "ax.set_title(f'Trial: {trial_plt}');"
   ]
  },
  {
   "cell_type": "code",
   "execution_count": 6,
   "id": "6d2da363",
   "metadata": {},
   "outputs": [],
   "source": [
    "motion.save_simulation(sim, 'data/test_data.npz')"
   ]
  },
  {
   "cell_type": "code",
   "execution_count": 7,
   "id": "c023ddf0",
   "metadata": {},
   "outputs": [],
   "source": [
    "dset = MotionDataset('data/test_data.npz')"
   ]
  },
  {
   "cell_type": "code",
   "execution_count": 8,
   "id": "27830e3e",
   "metadata": {},
   "outputs": [],
   "source": [
    "train_dataloader = DataLoader(dset, batch_size=100, shuffle=True)"
   ]
  },
  {
   "cell_type": "markdown",
   "id": "7b980068",
   "metadata": {},
   "source": [
    "## Train RNN on trajectory data"
   ]
  },
  {
   "cell_type": "code",
   "execution_count": 9,
   "id": "e3946ad7",
   "metadata": {},
   "outputs": [],
   "source": [
    "# Instantiate model\n",
    "model = PathRNN(n_units=100)\n",
    "\n",
    "# Define hyperparameters\n",
    "n_epochs = 100\n",
    "lr=0.01\n",
    "\n",
    "# Define Loss, Optimizer\n",
    "criterion = torch.nn.MSELoss()\n",
    "optimizer = torch.optim.Adam(model.parameters(), lr=lr)"
   ]
  },
  {
   "cell_type": "code",
   "execution_count": 10,
   "id": "00dfb4ed",
   "metadata": {},
   "outputs": [
    {
     "name": "stdout",
     "output_type": "stream",
     "text": [
      "Epoch: 10/100............. Loss: 0.3333\n",
      "Epoch: 20/100............. Loss: 0.3455\n",
      "Epoch: 30/100............. Loss: 0.3359\n",
      "Epoch: 40/100............. Loss: 0.3363\n",
      "Epoch: 50/100............. Loss: 0.3591\n",
      "Epoch: 60/100............. Loss: 0.3430\n",
      "Epoch: 70/100............. Loss: 0.3423\n",
      "Epoch: 80/100............. Loss: 0.3322\n",
      "Epoch: 90/100............. Loss: 0.3483\n",
      "Epoch: 100/100............. Loss: 0.3368\n"
     ]
    }
   ],
   "source": [
    "# Training Run\n",
    "for epoch in range(1, n_epochs + 1):\n",
    "\n",
    "    for vel_batch, pos_batch in train_dataloader:\n",
    "\n",
    "        # Clear gradients from previous epoch\n",
    "        optimizer.zero_grad()\n",
    "\n",
    "        # Compute loss\n",
    "        pos_est, u_vals = model(vel_batch)\n",
    "        loss = criterion(pos_est, pos_batch)\n",
    "\n",
    "        # Compute gradient via backprop\n",
    "        loss.backward()\n",
    "\n",
    "        # Update model parameters\n",
    "        optimizer.step()\n",
    "    \n",
    "    if epoch % 10 == 0:\n",
    "        print('Epoch: {}/{}.............'.format(epoch, n_epochs), end=' ')\n",
    "        print(\"Loss: {:.4f}\".format(loss.item()))"
   ]
  },
  {
   "cell_type": "markdown",
   "id": "b471ab59",
   "metadata": {},
   "source": [
    "## Compare predicted motion to ground truth"
   ]
  },
  {
   "cell_type": "code",
   "execution_count": 11,
   "id": "e6410022",
   "metadata": {},
   "outputs": [],
   "source": [
    "pos_est_plt = pos_est.detach().numpy()"
   ]
  },
  {
   "cell_type": "code",
   "execution_count": 12,
   "id": "555425c6",
   "metadata": {},
   "outputs": [
    {
     "data": {
      "image/png": "[encoded data removed]",
      "text/plain": [
       "<Figure size 432x288 with 1 Axes>"
      ]
     },
     "metadata": {
      "needs_background": "light"
     },
     "output_type": "display_data"
    }
   ],
   "source": [
    "trial_plt = 11\n",
    "\n",
    "fig, ax = plt.subplots(1, 1)\n",
    "ax.set_aspect('equal')\n",
    "ax.set_title(f'Trial: {trial_plt}')\n",
    "\n",
    "motion.plot_position_estimate(sim.boundary, sim.pos[trial_plt], pos_est_plt[trial_plt], ax)"
   ]
  }
 ],
 "metadata": {
  "kernelspec": {
   "display_name": "Python 3 (ipykernel)",
   "language": "python",
   "name": "python3"
  },
  "language_info": {
   "codemirror_mode": {
    "name": "ipython",
    "version": 3
   },
   "file_extension": ".py",
   "mimetype": "text/x-python",
   "name": "python",
   "nbconvert_exporter": "python",
   "pygments_lexer": "ipython3",
   "version": "3.9.7"
  }
 },
 "nbformat": 4,
 "nbformat_minor": 5
}
